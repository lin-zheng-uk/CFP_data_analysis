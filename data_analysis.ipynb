{
 "cells": [
  {
   "cell_type": "code",
   "execution_count": 1,
   "metadata": {},
   "outputs": [],
   "source": [
    "import pandas as pd\n",
    "import numpy as np\n",
    "import matplotlib.pyplot as plt\n",
    "import seaborn as sns"
   ]
  },
  {
   "cell_type": "code",
   "execution_count": 2,
   "metadata": {},
   "outputs": [],
   "source": [
    "# import data\n",
    "df = pd.read_csv('deliverable_2.csv')"
   ]
  },
  {
   "cell_type": "code",
   "execution_count": 3,
   "metadata": {},
   "outputs": [
    {
     "name": "stdout",
     "output_type": "stream",
     "text": [
      "<class 'pandas.core.frame.DataFrame'>\n",
      "RangeIndex: 420420 entries, 0 to 420419\n",
      "Data columns (total 8 columns):\n",
      " #   Column                             Non-Null Count   Dtype  \n",
      "---  ------                             --------------   -----  \n",
      " 0   Period                             420420 non-null  object \n",
      " 1   Primary classification             420420 non-null  object \n",
      " 2   Secondary classification variable  420420 non-null  object \n",
      " 3   Secondary classification value     352170 non-null  object \n",
      " 4   Variable                           420420 non-null  object \n",
      " 5   Statistic                          420420 non-null  object \n",
      " 6   Rounded N                          420420 non-null  float64\n",
      " 7   Value                              309024 non-null  float64\n",
      "dtypes: float64(2), object(6)\n",
      "memory usage: 25.7+ MB\n"
     ]
    }
   ],
   "source": [
    "df.info()"
   ]
  },
  {
   "cell_type": "code",
   "execution_count": 25,
   "metadata": {},
   "outputs": [
    {
     "data": {
      "text/plain": [
       "Variable\n",
       "weighted_mean_Clean_elec_imp_kWh_d_mean           5390\n",
       "weighted_mean_gas_fixed_expenditure_pc_total      5390\n",
       "weighted_mean_total_expenditure                   5390\n",
       "weighted_mean_gas_expenditure                     5390\n",
       "weighted_mean_elec_expenditure                    5390\n",
       "weighted_mean_total_variable_expenditure          5390\n",
       "weighted_mean_gas_variable_expenditure            5390\n",
       "weighted_mean_elec_variable_expenditure           5390\n",
       "weighted_mean_total_fixed_expenditure_pc_total    5390\n",
       "weighted_mean_Clean_gas_kWh_d_mean                5390\n",
       "weighted_mean_total_fixed_expenditure             5390\n",
       "weighted_mean_gas_fixed_expenditure               5390\n",
       "weighted_mean_elec_fixed_expenditure_pc_total     5390\n",
       "weighted_mean_elec_fixed_expenditure              5390\n",
       "weighted_mean_gas_unit_cost                       5390\n",
       "weighted_mean_elec_unit_cost                      5390\n",
       "weighted_mean_gas_standing_charge                 5390\n",
       "weighted_mean_elec_standing_charge                5390\n",
       "weighted_mean_Clean_total_kWh_d_mean              5390\n",
       "pc_disposable_income_spent_on_fuel_bills          5390\n",
       "income_gross                                      1078\n",
       "income_disposable                                 1078\n",
       "Name: count, dtype: int64"
      ]
     },
     "execution_count": 25,
     "metadata": {},
     "output_type": "execute_result"
    }
   ],
   "source": [
    "# Check value that do not has \"hh\" in the \"Variable\" column\n",
    "df1 = df[['Variable','Value']][~df['Variable'].str.contains('hh')]\n",
    "df1['Variable'].value_counts()"
   ]
  },
  {
   "cell_type": "code",
   "execution_count": 26,
   "metadata": {},
   "outputs": [
    {
     "data": {
      "text/html": [
       "<div>\n",
       "<style scoped>\n",
       "    .dataframe tbody tr th:only-of-type {\n",
       "        vertical-align: middle;\n",
       "    }\n",
       "\n",
       "    .dataframe tbody tr th {\n",
       "        vertical-align: top;\n",
       "    }\n",
       "\n",
       "    .dataframe thead th {\n",
       "        text-align: right;\n",
       "    }\n",
       "</style>\n",
       "<table border=\"1\" class=\"dataframe\">\n",
       "  <thead>\n",
       "    <tr style=\"text-align: right;\">\n",
       "      <th></th>\n",
       "      <th>Variable</th>\n",
       "      <th>Value</th>\n",
       "    </tr>\n",
       "  </thead>\n",
       "  <tbody>\n",
       "    <tr>\n",
       "      <th>0</th>\n",
       "      <td>weighted_mean_Clean_elec_imp_kWh_d_mean</td>\n",
       "      <td>8.990031</td>\n",
       "    </tr>\n",
       "    <tr>\n",
       "      <th>1</th>\n",
       "      <td>weighted_mean_Clean_elec_imp_kWh_d_mean</td>\n",
       "      <td>0.354596</td>\n",
       "    </tr>\n",
       "    <tr>\n",
       "      <th>2</th>\n",
       "      <td>weighted_mean_Clean_elec_imp_kWh_d_mean</td>\n",
       "      <td>2.946595</td>\n",
       "    </tr>\n",
       "    <tr>\n",
       "      <th>3</th>\n",
       "      <td>weighted_mean_Clean_elec_imp_kWh_d_mean</td>\n",
       "      <td>4.644354</td>\n",
       "    </tr>\n",
       "    <tr>\n",
       "      <th>4</th>\n",
       "      <td>weighted_mean_Clean_elec_imp_kWh_d_mean</td>\n",
       "      <td>6.992137</td>\n",
       "    </tr>\n",
       "  </tbody>\n",
       "</table>\n",
       "</div>"
      ],
      "text/plain": [
       "                                  Variable     Value\n",
       "0  weighted_mean_Clean_elec_imp_kWh_d_mean  8.990031\n",
       "1  weighted_mean_Clean_elec_imp_kWh_d_mean  0.354596\n",
       "2  weighted_mean_Clean_elec_imp_kWh_d_mean  2.946595\n",
       "3  weighted_mean_Clean_elec_imp_kWh_d_mean  4.644354\n",
       "4  weighted_mean_Clean_elec_imp_kWh_d_mean  6.992137"
      ]
     },
     "execution_count": 26,
     "metadata": {},
     "output_type": "execute_result"
    }
   ],
   "source": [
    "df1.head()"
   ]
  },
  {
   "cell_type": "code",
   "execution_count": 28,
   "metadata": {},
   "outputs": [
    {
     "data": {
      "text/plain": [
       "count    3999.000000\n",
       "mean       69.811894\n",
       "std        60.941536\n",
       "min         0.391782\n",
       "25%        23.515757\n",
       "50%        58.025964\n",
       "75%        98.565115\n",
       "max       402.577087\n",
       "Name: Value, dtype: float64"
      ]
     },
     "execution_count": 28,
     "metadata": {},
     "output_type": "execute_result"
    }
   ],
   "source": [
    "df1['Value'].loc[df1['Variable'] == 'weighted_mean_gas_variable_expenditure'].describe()"
   ]
  },
  {
   "cell_type": "code",
   "execution_count": 30,
   "metadata": {},
   "outputs": [
    {
     "data": {
      "text/plain": [
       "count    4050.000000\n",
       "mean        0.059315\n",
       "std         0.033443\n",
       "min         0.000071\n",
       "25%         0.038433\n",
       "50%         0.070024\n",
       "75%         0.086614\n",
       "max         0.110956\n",
       "Name: Value, dtype: float64"
      ]
     },
     "execution_count": 30,
     "metadata": {},
     "output_type": "execute_result"
    }
   ],
   "source": [
    "df1['Value'].loc[df1['Variable'] == 'weighted_mean_gas_unit_cost'].describe()"
   ]
  },
  {
   "cell_type": "code",
   "execution_count": 31,
   "metadata": {},
   "outputs": [
    {
     "data": {
      "text/plain": [
       "count    3871.000000\n",
       "mean       13.854947\n",
       "std         9.396972\n",
       "min         0.099875\n",
       "25%         7.359553\n",
       "50%        13.566034\n",
       "75%        19.369901\n",
       "max        48.111933\n",
       "Name: Value, dtype: float64"
      ]
     },
     "execution_count": 31,
     "metadata": {},
     "output_type": "execute_result"
    }
   ],
   "source": [
    "df1['Value'].loc[df1['Variable'] == 'weighted_mean_total_fixed_expenditure_pc_total'].describe()"
   ]
  },
  {
   "cell_type": "code",
   "execution_count": 32,
   "metadata": {},
   "outputs": [
    {
     "data": {
      "text/plain": [
       "count    3989.000000\n",
       "mean       16.732590\n",
       "std        13.729007\n",
       "min         0.154820\n",
       "25%         6.241931\n",
       "50%        13.749397\n",
       "75%        24.321675\n",
       "max        75.817935\n",
       "Name: Value, dtype: float64"
      ]
     },
     "execution_count": 32,
     "metadata": {},
     "output_type": "execute_result"
    }
   ],
   "source": [
    "df1['Value'].loc[df1['Variable'] == 'weighted_mean_gas_fixed_expenditure_pc_total'].describe()"
   ]
  },
  {
   "cell_type": "code",
   "execution_count": 34,
   "metadata": {},
   "outputs": [
    {
     "data": {
      "text/plain": [
       "count    4085.000000\n",
       "mean       15.589251\n",
       "std        10.638600\n",
       "min         0.085530\n",
       "25%         7.679316\n",
       "50%        15.224513\n",
       "75%        21.928377\n",
       "max        53.822922\n",
       "Name: Value, dtype: float64"
      ]
     },
     "execution_count": 34,
     "metadata": {},
     "output_type": "execute_result"
    }
   ],
   "source": [
    "df1['Value'].loc[df1['Variable'] == 'weighted_mean_elec_fixed_expenditure_pc_total'].describe()"
   ]
  },
  {
   "cell_type": "code",
   "execution_count": 33,
   "metadata": {},
   "outputs": [
    {
     "data": {
      "text/plain": [
       "count    3751.000000\n",
       "mean        9.300073\n",
       "std         8.925573\n",
       "min         0.040984\n",
       "25%         3.071074\n",
       "50%         7.004396\n",
       "75%        13.009403\n",
       "max        70.449816\n",
       "Name: Value, dtype: float64"
      ]
     },
     "execution_count": 33,
     "metadata": {},
     "output_type": "execute_result"
    }
   ],
   "source": [
    "df1['Value'].loc[df1['Variable'] == 'pc_disposable_income_spent_on_fuel_bills'].describe()"
   ]
  },
  {
   "cell_type": "code",
   "execution_count": 35,
   "metadata": {},
   "outputs": [
    {
     "data": {
      "text/plain": [
       "Statistic\n",
       "mean           60060\n",
       "sem            60060\n",
       "quantile_5     60060\n",
       "quantile_25    60060\n",
       "quantile_50    60060\n",
       "quantile_75    60060\n",
       "quantile_95    60060\n",
       "Name: count, dtype: int64"
      ]
     },
     "execution_count": 35,
     "metadata": {},
     "output_type": "execute_result"
    }
   ],
   "source": [
    "df['Statistic'].value_counts()"
   ]
  }
 ],
 "metadata": {
  "kernelspec": {
   "display_name": "base",
   "language": "python",
   "name": "python3"
  },
  "language_info": {
   "codemirror_mode": {
    "name": "ipython",
    "version": 3
   },
   "file_extension": ".py",
   "mimetype": "text/x-python",
   "name": "python",
   "nbconvert_exporter": "python",
   "pygments_lexer": "ipython3",
   "version": "3.11.7"
  }
 },
 "nbformat": 4,
 "nbformat_minor": 2
}
